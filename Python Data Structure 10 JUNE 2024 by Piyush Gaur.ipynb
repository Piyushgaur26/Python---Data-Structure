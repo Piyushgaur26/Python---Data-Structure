{
 "cells": [
  {
   "cell_type": "markdown",
   "metadata": {},
   "source": [
    "# ***Python Data Structures Assignment 10 JUNE 2024 by Piyush Gaur***"
   ]
  },
  {
   "cell_type": "markdown",
   "metadata": {},
   "source": [
    "#### 1. Discuss String Slicing and provide Example"
   ]
  },
  {
   "cell_type": "markdown",
   "metadata": {},
   "source": [
    "* String slicing is a technique in Python used to extract a portion (or slice) of a string.   \n",
    "\n",
    "* It allows for accessing substrings by specifying a start and end index, with an optional step.   \n",
    "\n",
    "* The syntax for string slicing is:     \n",
    "   *string[start:stop:step]*  \n",
    "   * **start**: The starting index from where the slice begins (inclusive). If omitted, it defaults to 0.\n",
    "   * **stop**: The ending index where the slice ends (exclusive). If omitted, it defaults to the length of the string.\n",
    "   * **step**: The step or stride between each index. If omitted, it defaults to 1.\n",
    "   \n",
    "\n",
    "       \n"
   ]
  },
  {
   "cell_type": "code",
   "execution_count": 1,
   "metadata": {},
   "outputs": [
    {
     "name": "stdout",
     "output_type": "stream",
     "text": [
      "Hello\n",
      "Hello\n",
      "World!\n",
      "Hlo ol!\n",
      "World\n",
      "!dlroW ,olleH\n"
     ]
    }
   ],
   "source": [
    "text = \"Hello, World!\"\n",
    "print(text[0:5])  # Output: Hello\n",
    "print(text[:5])   # Output: Hello (starts from the beginning)\n",
    "print(text[7:])   # Output: World! (goes to the end)\n",
    "print(text[::2])  # Output: Hlo ol!\n",
    "print(text[-6:-1])  # Output: World\n",
    "print(text[::-1])  # Output: !dlroW ,olleH"
   ]
  },
  {
   "cell_type": "markdown",
   "metadata": {},
   "source": [
    "#### 2. Explain the key features of Lists on Python "
   ]
  },
  {
   "cell_type": "markdown",
   "metadata": {},
   "source": [
    "* Lists in Python are versatile, mutable, and ordered collections that can hold a variety of data types. \n",
    "\n",
    "* They are one of the most commonly used data structures in Python due to their flexibility and ease of use. \n",
    "\n",
    "* Here are the key features of lists in Python:\n",
    "    * **Ordered Collection**  \n",
    "      Lists maintain the order of elements. The elements are stored in a specific sequence, and each element can be accessed by its index.  \n",
    "\n",
    "    * **Mutable**  \n",
    "      Lists are mutable, meaning that their elements can be changed after the list has been created. You can add, remove, or modify elements.   \n",
    "\n",
    "    * **Heterogeneous Elements**  \n",
    "      A single list can contain elements of different data types.  \n",
    "\n",
    "    * **Dynamic Size**  \n",
    "      Lists can grow and shrink in size as needed. You can append elements to the end or remove elements from any position."
   ]
  },
  {
   "cell_type": "code",
   "execution_count": 4,
   "metadata": {},
   "outputs": [
    {
     "name": "stdout",
     "output_type": "stream",
     "text": [
      "apple\n",
      "['apple', 'blueberry', 'cherry']\n",
      "[1, 'hello', 3.14, True]\n",
      "['apple', 'blueberry', 'cherry', 'date']\n",
      "['apple', 'cherry', 'date']\n"
     ]
    }
   ],
   "source": [
    "fruits = [\"apple\", \"banana\", \"cherry\"]\n",
    "print(fruits[0])  # Output: apple\n",
    "\n",
    "fruits[1] = \"blueberry\"\n",
    "print(fruits)  # Output: [\"apple\", \"blueberry\", \"cherry\"]\n",
    "\n",
    "mixed_list = [1, \"hello\", 3.14, True]\n",
    "print(mixed_list)  # Output: [1, \"hello\", 3.14, True]\n",
    "\n",
    "fruits.append(\"date\")\n",
    "print(fruits)  # Output: [\"apple\", \"blueberry\", \"cherry\", \"date\"]\n",
    "\n",
    "fruits.remove(\"blueberry\")\n",
    "print(fruits)  # Output: [\"apple\", \"cherry\", \"date\"]"
   ]
  },
  {
   "cell_type": "markdown",
   "metadata": {},
   "source": [
    "#### 3. Describe how to access ,modify and delete elements in a list with example."
   ]
  },
  {
   "cell_type": "markdown",
   "metadata": {},
   "source": [
    "* Accessing, modifying, and deleting elements in a list are fundamental operations in Python. Here's a detailed explanation of each with examples:\n",
    "\n",
    "  * **Accessing Elements**\n",
    "    You can access elements in a list using indexing and slicing."
   ]
  },
  {
   "cell_type": "code",
   "execution_count": 5,
   "metadata": {},
   "outputs": [
    {
     "name": "stdout",
     "output_type": "stream",
     "text": [
      "apple\n",
      "cherry\n",
      "cherry\n",
      "apple\n"
     ]
    }
   ],
   "source": [
    "# Indexing\n",
    "# Positive Indexing: Starts from 0 for the first element.\n",
    "# Negative Indexing: Starts from -1 for the last element.\n",
    "fruits = [\"apple\", \"banana\", \"cherry\"]\n",
    "\n",
    "# Positive indexing\n",
    "print(fruits[0])  # Output: apple\n",
    "print(fruits[2])  # Output: cherry\n",
    "\n",
    "# Negative indexing\n",
    "print(fruits[-1])  # Output: cherry\n",
    "print(fruits[-3])  # Output: apple"
   ]
  },
  {
   "cell_type": "code",
   "execution_count": 6,
   "metadata": {},
   "outputs": [
    {
     "name": "stdout",
     "output_type": "stream",
     "text": [
      "['banana', 'cherry', 'date']\n",
      "['apple', 'banana', 'cherry']\n",
      "['cherry', 'date', 'fig']\n",
      "['apple', 'cherry', 'fig']\n"
     ]
    }
   ],
   "source": [
    "# Slicing\n",
    "# Slicing returns a new list containing the specified range of elements.\n",
    "fruits = [\"apple\", \"banana\", \"cherry\", \"date\", \"fig\"]\n",
    "\n",
    "# Slicing\n",
    "print(fruits[1:4])  # Output: ['banana', 'cherry', 'date']\n",
    "print(fruits[:3])   # Output: ['apple', 'banana', 'cherry']\n",
    "print(fruits[2:])   # Output: ['cherry', 'date', 'fig']\n",
    "print(fruits[::2])  # Output: ['apple', 'cherry', 'fig']"
   ]
  },
  {
   "cell_type": "markdown",
   "metadata": {},
   "source": [
    "* **Modifying Elements**\n",
    "You can modify elements by assigning new values to specific indices."
   ]
  },
  {
   "cell_type": "code",
   "execution_count": 7,
   "metadata": {},
   "outputs": [
    {
     "name": "stdout",
     "output_type": "stream",
     "text": [
      "['apple', 'blueberry', 'cherry']\n",
      "['apple', 'blackberry', 'elderberry', 'date']\n"
     ]
    }
   ],
   "source": [
    "# Changing a Single Element\n",
    "fruits = [\"apple\", \"banana\", \"cherry\"]\n",
    "fruits[1] = \"blueberry\"\n",
    "print(fruits)  # Output: ['apple', 'blueberry', 'cherry']\n",
    "\n",
    "# Changing Multiple Elements\n",
    "# Using slicing to replace a range of elements.\n",
    "fruits = [\"apple\", \"banana\", \"cherry\", \"date\"]\n",
    "fruits[1:3] = [\"blackberry\", \"elderberry\"]\n",
    "print(fruits)  # Output: ['apple', 'blackberry', 'elderberry', 'date']"
   ]
  },
  {
   "cell_type": "markdown",
   "metadata": {},
   "source": [
    "* **Deleting Elements**\n",
    "  You can delete elements using the del statement, remove(), pop(), and clear() methods."
   ]
  },
  {
   "cell_type": "code",
   "execution_count": 8,
   "metadata": {},
   "outputs": [
    {
     "name": "stdout",
     "output_type": "stream",
     "text": [
      "['apple', 'cherry', 'date']\n",
      "['apple']\n",
      "cherry\n",
      "['apple', 'banana', 'date']\n",
      "date\n",
      "['apple', 'banana']\n",
      "['apple', 'cherry', 'date']\n",
      "[]\n"
     ]
    }
   ],
   "source": [
    "fruits = [\"apple\", \"banana\", \"cherry\", \"date\"]\n",
    "del fruits[1]\n",
    "print(fruits)  # Output: ['apple', 'cherry', 'date']\n",
    "\n",
    "del fruits[1:3]\n",
    "print(fruits)  # Output: ['apple']\n",
    "\n",
    "fruits = [\"apple\", \"banana\", \"cherry\", \"date\"]\n",
    "popped = fruits.pop(2)\n",
    "print(popped)  # Output: cherry\n",
    "print(fruits)  # Output: ['apple', 'banana', 'date']\n",
    "\n",
    "popped = fruits.pop()\n",
    "print(popped)  # Output: date\n",
    "print(fruits)  # Output: ['apple', 'banana']\n",
    "\n",
    "fruits = [\"apple\", \"banana\", \"cherry\", \"date\"]\n",
    "fruits.remove(\"banana\")\n",
    "print(fruits)  # Output: ['apple', 'cherry', 'date']\n",
    "\n",
    "fruits = [\"apple\", \"banana\", \"cherry\", \"date\"]\n",
    "fruits.clear()\n",
    "print(fruits)  # Output: []\n"
   ]
  },
  {
   "cell_type": "markdown",
   "metadata": {},
   "source": [
    "#### 4. Compare and contrast tuple and lists with example"
   ]
  },
  {
   "cell_type": "markdown",
   "metadata": {},
   "source": [
    "* Tuples and lists are both data structures in Python that can store collections of items. However, they have several differences in terms of mutability, syntax, and usage. Here’s a detailed comparison:\n",
    "\n",
    "  * **Mutability**  \n",
    "      *Lists* are mutable, meaning their elements can be changed, added, or removed.   \n",
    "\n",
    "      *Tuples* are immutable, meaning once they are created, their elements cannot be changed, added, or removed.  "
   ]
  },
  {
   "cell_type": "code",
   "execution_count": 9,
   "metadata": {},
   "outputs": [
    {
     "name": "stdout",
     "output_type": "stream",
     "text": [
      "[1, 4, 3]\n",
      "(1, 2, 3)\n"
     ]
    }
   ],
   "source": [
    "# List example\n",
    "my_list = [1, 2, 3]\n",
    "my_list[1] = 4  # Modifying an element\n",
    "print(my_list)  # Output: [1, 4, 3]\n",
    "\n",
    "# Tuple example\n",
    "my_tuple = (1, 2, 3)\n",
    "# my_tuple[1] = 4  # This will raise a TypeError\n",
    "print(my_tuple)  # Output: (1, 2, 3)\n"
   ]
  },
  {
   "cell_type": "markdown",
   "metadata": {},
   "source": [
    "* **Syntax**\n",
    "     * *Lists* are defined using square brackets [].\n",
    "     * *Tuples* are defined using parentheses ()."
   ]
  },
  {
   "cell_type": "code",
   "execution_count": 10,
   "metadata": {},
   "outputs": [],
   "source": [
    "my_list = [1, 2, 3]\n",
    "my_tuple = (1, 2, 3)"
   ]
  },
  {
   "cell_type": "markdown",
   "metadata": {},
   "source": [
    "* **Usage and Performance**\n",
    "    * *Lists* are typically used when you need a collection of items that can be modified.   \n",
    "    They are suitable for scenarios where data changes frequently.\n",
    "\n",
    "    * *Tuples* are used when you need a collection of items that should not change.   \n",
    "    They can be used as keys in dictionaries due to their immutability, and they provide some performance advantages over lists because they are immutable."
   ]
  },
  {
   "cell_type": "code",
   "execution_count": 11,
   "metadata": {},
   "outputs": [
    {
     "name": "stdout",
     "output_type": "stream",
     "text": [
      "['red', 'green', 'blue', 'yellow']\n",
      "{(10, 20): 'Location A'}\n"
     ]
    }
   ],
   "source": [
    "# Lists in usage\n",
    "colors = [\"red\", \"green\", \"blue\"]\n",
    "colors.append(\"yellow\")  # Modifying the list\n",
    "print(colors)  # Output: ['red', 'green', 'blue', 'yellow']\n",
    "\n",
    "# Tuples in usage\n",
    "point = (10, 20)\n",
    "coordinates = {point: \"Location A\"}  # Tuples can be dictionary keys\n",
    "print(coordinates)  # Output: {(10, 20): 'Location A'}\n"
   ]
  },
  {
   "cell_type": "markdown",
   "metadata": {},
   "source": [
    "* **Methods**\n",
    "    * *Lists* have a wide range of methods for adding, removing, and modifying elements, such as append(), extend(), insert(), remove(), pop(), clear(), sort(), and reverse().\n",
    "\n",
    "    * *Tuples* have fewer methods, mainly count() and index(), since they are immutable."
   ]
  },
  {
   "cell_type": "code",
   "execution_count": 13,
   "metadata": {},
   "outputs": [
    {
     "name": "stdout",
     "output_type": "stream",
     "text": [
      "[1, 2, 2, 3, 4]\n",
      "2\n",
      "[1, 2, 3, 4]\n",
      "2\n",
      "3\n"
     ]
    }
   ],
   "source": [
    "# List methods\n",
    "my_list = [1, 2, 2, 3]\n",
    "my_list.append(4)\n",
    "print(my_list)  # Output: [1, 2, 2, 3, 4]\n",
    "print(my_list.count(2))  # Output: 2\n",
    "my_list.remove(2)\n",
    "print(my_list)  # Output: [1, 2, 3, 4]\n",
    "\n",
    "# Tuple methods\n",
    "my_tuple = (1, 2, 2, 3)\n",
    "print(my_tuple.count(2))  # Output: 2\n",
    "print(my_tuple.index(3))  # Output: 3"
   ]
  },
  {
   "cell_type": "markdown",
   "metadata": {},
   "source": [
    "#### 5. Describe the key features of sets and provide example of their use."
   ]
  },
  {
   "cell_type": "markdown",
   "metadata": {},
   "source": [
    "* Sets are a fundamental data structure in many programming languages, including Python.   \n",
    "\n",
    "* They are used to store collections of unique elements.\n",
    "\n",
    "* *Key Features of Sets*\n",
    "    * **Unordered Collection**:\n",
    "    Sets do not maintain any order for the elements. When you iterate over a set, the elements might appear in any order.  \n",
    "\n",
    "    * **Unique Elements**:\n",
    "    Sets automatically handle duplicates by ensuring that each element appears only once. If you try to add a duplicate element, it will be ignored.   \n",
    "\n",
    "    * **Mutable**:\n",
    "    You can add or remove elements from a set after its creation. However, the elements themselves must be immutable (e.g., numbers, strings, tuples).  \n",
    "\n",
    "    * **No Indexing or Slicing**:\n",
    "    Since sets are unordered, they do not support indexing, slicing, or other sequence-like behavior.  \n",
    "\n",
    "    * **Efficient Membership Testing**:\n",
    "    Sets provide fast membership testing (checking if an element is in the set), typically with average time complexity of O(1).  \n",
    "\n",
    "    * **Set Operations**:\n",
    "    Sets support operations like union, intersection, difference, and symmetric difference"
   ]
  },
  {
   "cell_type": "code",
   "execution_count": 15,
   "metadata": {},
   "outputs": [
    {
     "name": "stdout",
     "output_type": "stream",
     "text": [
      "{1, 2, 3, 4, 5, 6}\n",
      "{3, 4}\n",
      "{1, 2}\n",
      "{1, 2, 5, 6}\n",
      "{1, 2, 3, 4, 5}\n"
     ]
    }
   ],
   "source": [
    "set_a = {1, 2, 3, 4}\n",
    "set_b = {3, 4, 5, 6}\n",
    "\n",
    "# Union\n",
    "union_set = set_a | set_b\n",
    "print(union_set)  # Output: {1, 2, 3, 4, 5, 6}\n",
    "\n",
    "# Intersection\n",
    "intersection_set = set_a & set_b\n",
    "print(intersection_set)  # Output: {3, 4}\n",
    "\n",
    "# Difference\n",
    "difference_set = set_a - set_b\n",
    "print(difference_set)  # Output: {1, 2}\n",
    "\n",
    "# Symmetric Difference\n",
    "symmetric_difference_set = set_a ^ set_b\n",
    "print(symmetric_difference_set)  # Output: {1, 2, 5, 6}\n",
    "\n",
    "# Removing Duplicates from a List:\n",
    "numbers = [1, 2, 2, 3, 4, 4, 5]\n",
    "unique_numbers = set(numbers)\n",
    "print(unique_numbers)  # Output: {1, 2, 3, 4, 5}\n"
   ]
  },
  {
   "cell_type": "code",
   "execution_count": 27,
   "metadata": {},
   "outputs": [
    {
     "name": "stdout",
     "output_type": "stream",
     "text": [
      "5\n",
      "<class 'str'>\n",
      "10.5\n",
      "<class 'str'>\n"
     ]
    }
   ],
   "source": [
    "# Convert int to string\n",
    "a = 5\n",
    "b = str(a)\n",
    "print(b) # Output: \"5\"\n",
    "print(type(b))  \n",
    "\n",
    "# Convert float to string\n",
    "c = 10.5\n",
    "d = str(c)\n",
    "print(d) # Output: \"10.5\"\n",
    "print(type(d))  \n"
   ]
  },
  {
   "cell_type": "markdown",
   "metadata": {},
   "source": [
    "#### 6. Discuss the use case of tuples and sets in python programming."
   ]
  },
  {
   "cell_type": "markdown",
   "metadata": {},
   "source": [
    "Tuples and sets are both fundamental data structures in Python, each serving distinct purposes due to their unique properties.\n",
    "\n",
    "### Tuples:\n",
    "\n",
    "1. **Immutable Sequences:**\n",
    "   - Tuples are immutable, meaning once they are created, their elements cannot be changed or modified. This makes them suitable for storing collections of items that should not be altered.\n",
    "\n",
    "2. **Use Cases:**\n",
    "   - **Fixed Collection:** When you have a fixed collection of items that won't change, such as coordinates, constants, or configuration settings.\n",
    "   - **Efficient Packing and Unpacking:** Tuples are often used for efficient packing and unpacking of data in functions and algorithms where a fixed number of elements are expected.\n",
    "\n",
    "3. **Example:**\n",
    "   ```python\n",
    "   point = (3, 4)\n",
    "   dimensions = (1920, 1080)\n",
    "   rgb_color = (255, 0, 0)\n",
    "   ```\n",
    "\n",
    "### Sets:\n",
    "\n",
    "1. **Unordered Collections:**\n",
    "   - Sets are unordered collections of unique elements. They do not store duplicate values, and the order of elements is not guaranteed.\n",
    "\n",
    "2. **Use Cases:**\n",
    "   - **Removing Duplicates:** When you need to eliminate duplicate values from a sequence.\n",
    "   - **Membership Testing:** Checking whether a specific element exists within a collection, which is very efficient in sets due to their hash-based implementation.\n",
    "   - **Mathematical Operations:** Sets support operations like union, intersection, difference, and symmetric difference, which are useful in various computational problems.\n",
    "\n",
    "3. **Example:**\n",
    "   ```python\n",
    "   unique_numbers = {1, 2, 3, 4, 5}\n",
    "   vowels = {'a', 'e', 'i', 'o', 'u'}\n",
    "   ```\n",
    "\n",
    "### Comparison:\n",
    "\n",
    "- **Mutability:**\n",
    "  - Tuples are immutable, while sets are mutable (you can add or remove elements).\n",
    "\n",
    "- **Uniqueness:**\n",
    "  - Tuples can contain duplicate elements, whereas sets automatically remove duplicates.\n",
    "\n",
    "- **Order:**\n",
    "  - Tuples maintain the order of elements, while sets do not guarantee any specific order.\n",
    "\n",
    "### Choosing Between Tuples and Sets:\n",
    "\n",
    "- Use tuples when:\n",
    "  - You need an immutable collection of items.\n",
    "  - Order and duplication of elements matter.\n",
    "  - You want to use them as keys in dictionaries (since they are hashable).\n",
    "\n",
    "- Use sets when:\n",
    "  - You need to store unique elements.\n",
    "  - You want to perform set operations like intersection, union, etc.\n",
    "  - You don't care about the order of elements.\n"
   ]
  },
  {
   "cell_type": "markdown",
   "metadata": {},
   "source": [
    "#### 7. Describe how to add,modify and delete items in a dictionary with examples.\n"
   ]
  },
  {
   "cell_type": "markdown",
   "metadata": {},
   "source": [
    "Dictionaries in Python are mutable, unordered collections that store items in key-value pairs. You can add, modify, and delete items in a dictionary using various methods. Here’s how you can perform these operations:\n",
    "\n",
    "### Adding Items to a Dictionary\n",
    "\n",
    "1. **Adding a New Key-Value Pair:**\n",
    "   - To add a new key-value pair to a dictionary, simply assign a value to a new key.\n",
    "\n",
    "   ```python\n",
    "   my_dict = {'name': 'Alice', 'age': 25}\n",
    "   my_dict['address'] = '123 Main St'\n",
    "   print(my_dict)  # Output: {'name': 'Alice', 'age': 25, 'address': '123 Main St'}\n",
    "   ```\n",
    "\n",
    "2. **Using the `update()` Method:**\n",
    "   - You can also add multiple key-value pairs using the `update()` method.\n",
    "\n",
    "   ```python\n",
    "   my_dict.update({'phone': '555-1234', 'email': 'alice@example.com'})\n",
    "   print(my_dict)  # Output: {'name': 'Alice', 'age': 25, 'address': '123 Main St', 'phone': '555-1234', 'email': 'alice@example.com'}\n",
    "   ```\n",
    "\n",
    "### Modifying Items in a Dictionary\n",
    "\n",
    "1. **Modifying an Existing Key-Value Pair:**\n",
    "   - To modify the value of an existing key, assign a new value to that key.\n",
    "\n",
    "   ```python\n",
    "   my_dict['age'] = 26\n",
    "   print(my_dict)  # Output: {'name': 'Alice', 'age': 26, 'address': '123 Main St', 'phone': '555-1234', 'email': 'alice@example.com'}\n",
    "   ```\n",
    "\n",
    "2. **Using the `update()` Method:**\n",
    "   - You can also modify multiple key-value pairs using the `update()` method.\n",
    "\n",
    "   ```python\n",
    "   my_dict.update({'address': '456 Elm St', 'email': 'alice_new@example.com'})\n",
    "   print(my_dict)  # Output: {'name': 'Alice', 'age': 26, 'address': '456 Elm St', 'phone': '555-1234', 'email': 'alice_new@example.com'}\n",
    "   ```\n",
    "\n",
    "### Deleting Items from a Dictionary\n",
    "\n",
    "1. **Using the `del` Statement:**\n",
    "   - To delete a key-value pair, use the `del` statement.\n",
    "\n",
    "   ```python\n",
    "   del my_dict['phone']\n",
    "   print(my_dict)  # Output: {'name': 'Alice', 'age': 26, 'address': '456 Elm St', 'email': 'alice_new@example.com'}\n",
    "   ```\n",
    "\n",
    "2. **Using the `pop()` Method:**\n",
    "   - The `pop()` method removes the specified key and returns the corresponding value. If the key is not found, it raises a `KeyError`.\n",
    "\n",
    "   ```python\n",
    "   email = my_dict.pop('email')\n",
    "   print(email)  # Output: 'alice_new@example.com'\n",
    "   print(my_dict)  # Output: {'name': 'Alice', 'age': 26, 'address': '456 Elm St'}\n",
    "   ```\n",
    "\n",
    "3. **Using the `popitem()` Method:**\n",
    "   - The `popitem()` method removes and returns the last key-value pair added to the dictionary. Since dictionaries are unordered prior to Python 3.7, the method removes an arbitrary item.\n",
    "\n",
    "   ```python\n",
    "   last_item = my_dict.popitem()\n",
    "   print(last_item)  # Output: ('address', '456 Elm St')\n",
    "   print(my_dict)  # Output: {'name': 'Alice', 'age': 26}\n",
    "   ```\n",
    "\n",
    "4. **Using the `clear()` Method:**\n",
    "   - To remove all key-value pairs from the dictionary, use the `clear()` method.\n",
    "\n",
    "   ```python\n",
    "   my_dict.clear()\n",
    "   print(my_dict)  # Output: {}\n",
    "   ```\n",
    "\n",
    "By using these methods, you can effectively manage the contents of a dictionary in Python, adding, modifying, and deleting items as needed for your application."
   ]
  },
  {
   "cell_type": "markdown",
   "metadata": {},
   "source": [
    "#### 8. Discuss the importance of dictionary keys being immutable and provide examples."
   ]
  },
  {
   "cell_type": "markdown",
   "metadata": {},
   "source": [
    "In Python, dictionary keys must be immutable types. This immutability requirement is crucial for several reasons related to the internal workings of dictionaries and their performance. Here’s an in-depth discussion of why dictionary keys need to be immutable and some examples of immutable and mutable types.\n",
    "\n",
    "### Importance of Dictionary Keys Being Immutable\n",
    "\n",
    "1. **Hashability:**\n",
    "   - Dictionary keys are hashed to determine where they will be stored in memory. Immutable objects have a fixed hash value, ensuring consistent retrieval. If a key were mutable and changed after being added to the dictionary, its hash value would change, making it impossible to retrieve the key's value reliably.\n",
    "\n",
    "2. **Consistency and Integrity:**\n",
    "   - Immutability ensures that the key's value remains constant over its lifetime in the dictionary. This consistency is essential to maintaining the integrity of the dictionary's data structure.\n",
    "\n",
    "3. **Performance:**\n",
    "   - Hashing and equality checks (used to locate keys in the dictionary) are optimized for immutable types. Mutable objects could lead to inefficiencies and unpredictable behavior in the dictionary's performance.\n",
    "\n",
    "### Examples of Immutable Types\n",
    "\n",
    "1. **Strings:**\n",
    "   - Strings are immutable and commonly used as dictionary keys.\n",
    "   ```python\n",
    "   my_dict = {'name': 'Alice', 'age': 25}\n",
    "   print(my_dict['name'])  # Output: Alice\n",
    "   ```\n",
    "\n",
    "2. **Numbers:**\n",
    "   - Numbers (integers, floats) are immutable and can be used as dictionary keys.\n",
    "   ```python\n",
    "   my_dict = {1: 'one', 2: 'two'}\n",
    "   print(my_dict[1])  # Output: one\n",
    "   ```\n",
    "\n",
    "3. **Tuples:**\n",
    "   - Tuples are immutable and can be used as dictionary keys, provided all their elements are also immutable.\n",
    "   ```python\n",
    "   my_dict = {(1, 2): 'coordinates', (3, 4): 'more coordinates'}\n",
    "   print(my_dict[(1, 2)])  # Output: coordinates\n",
    "   ```\n",
    "\n",
    "### Examples of Mutable Types (Not Allowed as Keys)\n",
    "\n",
    "1. **Lists:**\n",
    "   - Lists are mutable and cannot be used as dictionary keys. Attempting to do so raises a `TypeError`.\n",
    "   ```python\n",
    "   my_dict = {[1, 2, 3]: 'list'}  # Raises TypeError: unhashable type: 'list'\n",
    "   ```\n",
    "\n",
    "2. **Dictionaries:**\n",
    "   - Dictionaries themselves are mutable and cannot be used as keys.\n",
    "   ```python\n",
    "   my_dict = {{'a': 1}: 'dict'}  # Raises TypeError: unhashable type: 'dict'\n",
    "   ```\n",
    "\n",
    "3. **Sets:**\n",
    "   - Sets are mutable and cannot be used as dictionary keys.\n",
    "   ```python\n",
    "   my_dict = {{1, 2, 3}: 'set'}  # Raises TypeError: unhashable type: 'set'\n",
    "   ```"
   ]
  }
 ],
 "metadata": {
  "kernelspec": {
   "display_name": "Python 3",
   "language": "python",
   "name": "python3"
  },
  "language_info": {
   "codemirror_mode": {
    "name": "ipython",
    "version": 3
   },
   "file_extension": ".py",
   "mimetype": "text/x-python",
   "name": "python",
   "nbconvert_exporter": "python",
   "pygments_lexer": "ipython3",
   "version": "3.11.5"
  }
 },
 "nbformat": 4,
 "nbformat_minor": 2
}
